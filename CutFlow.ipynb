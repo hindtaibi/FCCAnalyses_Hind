{
 "cells": [
  {
   "cell_type": "code",
   "execution_count": 2,
   "metadata": {},
   "outputs": [],
   "source": [
    "import pandas as pd\n",
    "import numpy as np"
   ]
  },
  {
   "cell_type": "code",
   "execution_count": 24,
   "metadata": {},
   "outputs": [
    {
     "data": {
      "text/plain": [
       "True"
      ]
     },
     "execution_count": 24,
     "metadata": {},
     "output_type": "execute_result"
    }
   ],
   "source": [
    "#Decay modes\n",
    "Decay = np.array([#Signal\n",
    "                  'mumuH_HZZ', 'eeH_HZZ', 'nunuH_HZZ', 'qqH_HZZ', 'ssH_HZZ', 'bbH_HZZ', 'ccH_HZZ',\n",
    "                  #Background\n",
    "                  'mumuH_HWW', 'mumuH_HZa', 'mumuH_Haa', 'mumuH_Hbb', 'mumuH_Hcc', 'mumuH_Hgg',\n",
    "                  'mumuH_Hmumu', 'mumuH_Hss', 'mumuH_Htautau', 'nunuH_HWW', 'nunuH_HZa',\n",
    "                  'nunuH_Haa', 'nunuH_Hbb', 'nunuH_Hcc', 'nunuH_Hgg', 'nunuH_Hmumu', 'nunuH_Hss',\n",
    "                  'nunuH_Htautau', 'eeH_HWW', 'eeH_HZa', 'eeH_Haa', 'eeH_Hbb', 'eeH_Hcc',\n",
    "                  'eeH_Hgg', 'eeH_Hmumu', 'eeH_Hss', 'eeH_Htautau', 'ZZ', 'WW'])\n",
    "\n",
    "#Initial number of events\n",
    "N_i = np.array([400000, 400000, 1200000, 1200000, 600000, 1000000, 1200000, 400000, 400000, 300000, \n",
    "                300000, 400000, 400000, 400000, 400000, 400000, 1200000, 300000, 400000, 1200000, \n",
    "                1100000, 1055845, 400000, 1008052, 1200000, 400000, 400000, 400000, 400000, 400000,\n",
    "                400000, 400000, 352836, 400000, 600000, 400000])\n",
    "\n",
    "#Number of events after stage2A\n",
    "N_stage2A = np.array([23361, 22896, 460, 434, 212, 351, 439, 4869, 21591, 0, 202, 17, 1, 199321, 2,\n",
    "                      5528, 0, 0, 0, 0, 0, 0, 0, 0, 0, 4810, 21555, 0, 233, 13, 0, 199779, 1, 5363,\n",
    "                      1075, 0])\n",
    "\n",
    "#Number of events after stage2B\n",
    "N_stage2B = np.array([23399, 23137, 4276, 4259, 2140, 4983, 4720, 7244, 4307, 0, 7112, 2085, 375,\n",
    "                      161335, 261, 12014, 0, 0, 0, 3, 0, 0, 0, 0, 0, 7204, 4450, 0, 9099, 1956,\n",
    "                      341, 154003, 238, 11903, 2473, 4])\n",
    "\n",
    "#Number of events after stage2_6l\n",
    "N_stage2_6l = np.array([1365, 1288, 0, 0, 0, 12, 3, 0, 0, 0, 0, 0, 0, 0, 0, 0, 0, 0, 0, 0, 0, 0, 0,\n",
    "                        0, 0, 0, 0, 0, 0, 0, 0, 0, 0, 0, 2, 0])\n",
    "\n",
    "#Number of events after the final cut in finalAA\n",
    "#The final cut being precuts_Za_m_Zb_m_emiss_photon_e_jj_m\n",
    "N_finalAA = np.array([10169, 9611, 0, 0, 0, 0, 0, 0, 142, 0, 0, 0, 0, 920, 0,\n",
    "                      0, 0, 0, 0, 0, 0, 0, 0, 0, 0, 0, 189, 0, 0, 0, 0, 914, 0, 0,\n",
    "                      9, 0])\n",
    "\n",
    "len(N_i)==len(N_stage2_6l)"
   ]
  },
  {
   "cell_type": "code",
   "execution_count": 26,
   "metadata": {},
   "outputs": [
    {
     "name": "stdout",
     "output_type": "stream",
     "text": [
      "       Decay Mode  Initial Events Number (%)  After stage2A (%)   \n",
      "0       mumuH_HZZ                        100           5.840250  \\\n",
      "1         eeH_HZZ                        100           5.724000   \n",
      "2       nunuH_HZZ                        100           0.038333   \n",
      "3         qqH_HZZ                        100           0.036167   \n",
      "4         ssH_HZZ                        100           0.035333   \n",
      "5         bbH_HZZ                        100           0.035100   \n",
      "6         ccH_HZZ                        100           0.036583   \n",
      "7       mumuH_HWW                        100           1.217250   \n",
      "8       mumuH_HZa                        100           5.397750   \n",
      "9       mumuH_Haa                        100           0.000000   \n",
      "10      mumuH_Hbb                        100           0.067333   \n",
      "11      mumuH_Hcc                        100           0.004250   \n",
      "12      mumuH_Hgg                        100           0.000250   \n",
      "13    mumuH_Hmumu                        100          49.830250   \n",
      "14      mumuH_Hss                        100           0.000500   \n",
      "15  mumuH_Htautau                        100           1.382000   \n",
      "16      nunuH_HWW                        100           0.000000   \n",
      "17      nunuH_HZa                        100           0.000000   \n",
      "18      nunuH_Haa                        100           0.000000   \n",
      "19      nunuH_Hbb                        100           0.000000   \n",
      "20      nunuH_Hcc                        100           0.000000   \n",
      "21      nunuH_Hgg                        100           0.000000   \n",
      "22    nunuH_Hmumu                        100           0.000000   \n",
      "23      nunuH_Hss                        100           0.000000   \n",
      "24  nunuH_Htautau                        100           0.000000   \n",
      "25        eeH_HWW                        100           1.202500   \n",
      "26        eeH_HZa                        100           5.388750   \n",
      "27        eeH_Haa                        100           0.000000   \n",
      "28        eeH_Hbb                        100           0.058250   \n",
      "29        eeH_Hcc                        100           0.003250   \n",
      "30        eeH_Hgg                        100           0.000000   \n",
      "31      eeH_Hmumu                        100          49.944750   \n",
      "32        eeH_Hss                        100           0.000283   \n",
      "33    eeH_Htautau                        100           1.340750   \n",
      "34             ZZ                        100           0.179167   \n",
      "35             WW                        100           0.000000   \n",
      "\n",
      "    After finalAA (%)  After stage2B (%)  After stage2_6l (%)  \n",
      "0            2.538000           5.849750             0.341250  \n",
      "1            2.402000           5.784250             0.322000  \n",
      "2            0.000000           0.356333             0.000000  \n",
      "3            0.000000           0.354917             0.000000  \n",
      "4            0.000000           0.356667             0.000000  \n",
      "5            0.000000           0.498300             0.001200  \n",
      "6            0.000000           0.393333             0.000250  \n",
      "7            0.000000           1.811000             0.000000  \n",
      "8            0.007000           1.076750             0.000000  \n",
      "9            0.000000           0.000000             0.000000  \n",
      "10           0.000000           2.370667             0.000000  \n",
      "11           0.000000           0.521250             0.000000  \n",
      "12           0.000000           0.093750             0.000000  \n",
      "13           0.004000          40.333750             0.000000  \n",
      "14           0.000000           0.065250             0.000000  \n",
      "15           0.000000           3.003500             0.000000  \n",
      "16           0.000000           0.000000             0.000000  \n",
      "17           0.000000           0.000000             0.000000  \n",
      "18           0.000000           0.000000             0.000000  \n",
      "19           0.000000           0.000250             0.000000  \n",
      "20           0.000000           0.000000             0.000000  \n",
      "21           0.000000           0.000000             0.000000  \n",
      "22           0.000000           0.000000             0.000000  \n",
      "23           0.000000           0.000000             0.000000  \n",
      "24           0.000000           0.000000             0.000000  \n",
      "25           0.000000           1.801000             0.000000  \n",
      "26           0.007250           1.112500             0.000000  \n",
      "27           0.000000           0.000000             0.000000  \n",
      "28           0.000000           2.274750             0.000000  \n",
      "29           0.000000           0.489000             0.000000  \n",
      "30           0.000000           0.085250             0.000000  \n",
      "31           0.004500          38.500750             0.000000  \n",
      "32           0.000000           0.067453             0.000000  \n",
      "33           0.000000           2.975750             0.000000  \n",
      "34           0.000167           0.412167             0.000333  \n",
      "35           0.000000           0.001000             0.000000  \n"
     ]
    }
   ],
   "source": [
    "data = {'Decay Mode' : Decay, \n",
    "        #'Initial Events Number' : N_i, \n",
    "        'Initial Events Number (%)' : np.array(len(N_i)*[100]),\n",
    "        #'After stage2A' : N_stage2A,\n",
    "        'After stage2A (%)' : 100*N_stage2A/N_i,\n",
    "        #'After finalAA' : N_finalAA,\n",
    "        'After finalAA (%)' : 100*N_finalAA/N_i,\n",
    "        #'After stage2B' : N_stage2B,\n",
    "        'After stage2B (%)' : 100*N_stage2B/N_i,\n",
    "        #'After stage2_6l' : N_stage2_6l,\n",
    "        'After stage2_6l (%)' : 100*N_stage2_6l/N_i\n",
    "        }\n",
    "CutFlow=pd.DataFrame(data)\n",
    "\n",
    "print(CutFlow)"
   ]
  }
 ],
 "metadata": {
  "kernelspec": {
   "display_name": "Python 3",
   "language": "python",
   "name": "python3"
  },
  "language_info": {
   "codemirror_mode": {
    "name": "ipython",
    "version": 3
   },
   "file_extension": ".py",
   "mimetype": "text/x-python",
   "name": "python",
   "nbconvert_exporter": "python",
   "pygments_lexer": "ipython3",
   "version": "3.10.12"
  }
 },
 "nbformat": 4,
 "nbformat_minor": 2
}
